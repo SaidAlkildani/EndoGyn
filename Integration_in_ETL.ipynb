{
 "cells": [
  {
   "cell_type": "code",
   "execution_count": 1,
   "id": "24513248",
   "metadata": {},
   "outputs": [],
   "source": [
    "# Import libraries\n",
    "import tarfile\n",
    "import scanpy as sc\n",
    "import os\n",
    "import anndata as ad"
   ]
  },
  {
   "cell_type": "code",
   "execution_count": 8,
   "id": "7b0dc99b",
   "metadata": {},
   "outputs": [],
   "source": [
    "# For loop to create an adata for the cancer dataset\n",
    "# Extract files to a directory\n",
    "data_dir = \"/Users/saidalkildani/Desktop/DS_AI/Projects/EndoGyn/data/raw/cancer\"\n",
    "with tarfile.open(\"data/raw/cancer/GSE184880_RAW.tar\", \"r\") as tar:\n",
    "    tar.extractall(path=\"data/raw/cancer\")\n",
    "# List all prefixes (one per sample)\n",
    "prefixes = [\n",
    "    \"GSM5599220_Norm1\",\n",
    "    \"GSM5599221_Norm2\",\n",
    "    \"GSM5599222_Norm3\",\n",
    "    \"GSM5599223_Norm4\",\n",
    "    \"GSM5599224_Norm5\",\n",
    "    \"GSM5599225_Cancer1\",\n",
    "    \"GSM5599226_Cancer2\",\n",
    "    \"GSM5599227_Cancer3\",\n",
    "    \"GSM5599228_Cancer4\",\n",
    "    \"GSM5599229_Cancer5\",\n",
    "    \"GSM5599230_Cancer6\",\n",
    "    \"GSM5599231_Cancer7\"\n",
    "]\n",
    "\n",
    "adatas = []\n",
    "for prefix in prefixes:\n",
    "    # Rename files to match Scanpy's expectations\n",
    "\n",
    "    os.rename(\n",
    "        os.path.join(data_dir, f\"{prefix}.matrix.mtx.gz\"),\n",
    "        os.path.join(data_dir, f\"{prefix}_matrix.mtx.gz\")\n",
    "    )\n",
    "    os.rename(\n",
    "        os.path.join(data_dir, f\"{prefix}.barcodes.tsv.gz\"),\n",
    "        os.path.join(data_dir, f\"{prefix}_barcodes.tsv.gz\")\n",
    "    )\n",
    "    os.rename(\n",
    "        os.path.join(data_dir, f\"{prefix}.genes.tsv.gz\"),\n",
    "        os.path.join(data_dir, f\"{prefix}_features.tsv.gz\")\n",
    "    )\n",
    "    prefix = prefix + \"_\" # add underscore \n",
    "    adata = sc.read_10x_mtx(\n",
    "        data_dir,\n",
    "        prefix=prefix,\n",
    "        var_names='gene_symbols',\n",
    "        make_unique=True,\n",
    "        cache=True\n",
    "    )\n",
    "    adata.obs[\"sample\"] = prefix.rstrip(\"_\")\n",
    "    adatas.append(adata)\n",
    "# Concatenate all Objects inside adatas into one\n",
    "adata_cancer = ad.concat(adatas, label=\"batch\", index_unique=\"-\", keys=[p.rstrip(\"_\") for p in prefixes])"
   ]
  },
  {
   "cell_type": "code",
   "execution_count": 9,
   "id": "743b3312",
   "metadata": {},
   "outputs": [],
   "source": [
    "# Extract files to a directory\n",
    "data_dir = \"/Users/saidalkildani/Desktop/DS_AI/Projects/EndoGyn/data/raw/endo\"\n",
    "with tarfile.open(\"data/raw/endo/GSE214411_RAW.tar\", \"r\") as tar:\n",
    "    tar.extractall(path=\"data/raw/endo\")\n",
    "# List all prefixes (one per sample)\n",
    "prefixes = [\n",
    "    \"GSM6605431_EMS1_\",\n",
    "    \"GSM6605432_EMS2_\",\n",
    "    \"GSM6605433_EMS3_\",\n",
    "    \"GSM6605434_EMS4_\",\n",
    "    \"GSM6605435_EMS5_\",\n",
    "    \"GSM6605436_EMS6_\",\n",
    "    \"GSM6605437_N1_\",\n",
    "    \"GSM6605438_N2_\",\n",
    "    \"GSM6605439_N3_\",\n",
    "    \"GSM6605440_N4_\",\n",
    "    \"GSM7277296_N-5_\",\n",
    "    \"GSM7277297_N-6_\",\n",
    "    \"GSM7277298_N-7_\"\n",
    "]\n",
    "\n",
    "adatas = []\n",
    "for prefix in prefixes:\n",
    "    adata = sc.read_10x_mtx(\n",
    "        data_dir,\n",
    "        prefix=prefix,\n",
    "        var_names='gene_symbols',\n",
    "        make_unique=True,\n",
    "        cache=True\n",
    "    )\n",
    "    adata.obs[\"sample\"] = prefix.rstrip(\"_\")\n",
    "    adatas.append(adata)\n",
    "# Concatenate all Objects inside adatas into one\n",
    "adata_endo = ad.concat(adatas, label=\"batch\", index_unique=\"-\", keys=[p.rstrip(\"_\") for p in prefixes])"
   ]
  },
  {
   "cell_type": "code",
   "execution_count": 10,
   "id": "64c0816e",
   "metadata": {},
   "outputs": [],
   "source": [
    "def preprocess(adata):\n",
    "    # Basic filtering\n",
    "    sc.pp.filter_cells(adata, min_genes=200)\n",
    "    sc.pp.filter_genes(adata, min_cells=3)\n",
    "    # Annotate mito genes and filter them \n",
    "    adata.var[\"mt\"] = adata.var_names.str.startswith(\"MT-\")\n",
    "    sc.pp.calculate_qc_metrics(\n",
    "    adata, qc_vars=[\"mt\"], percent_top=None, log1p=False, inplace=True\n",
    "    )\n",
    "    adata = adata[adata.obs.n_genes_by_counts < 2500, :]\n",
    "    adata = adata[adata.obs.pct_counts_mt < 20, :].copy()\n",
    "    # Normalize\n",
    "    sc.pp.normalize_total(adata, target_sum=1e4)\n",
    "    # Logarithmize\n",
    "    sc.pp.log1p(adata)\n",
    "    # Identify highly variable genes\n",
    "    sc.pp.highly_variable_genes(adata, min_mean=0.0125, max_mean=3, min_disp=0.5)\n",
    "    adata = adata[:, adata.var.highly_variable]\n",
    "    return adata"
   ]
  },
  {
   "cell_type": "code",
   "execution_count": null,
   "id": "32a9afe7",
   "metadata": {},
   "outputs": [],
   "source": [
    "def vis_umap(adata, x):\n",
    "    # Scale\n",
    "    sc.pp.scale(adata, max_value=10)    \n",
    "    # PCA\n",
    "    sc.tl.pca(adata, svd_solver=\"arpack\")\n",
    "    sc.pp.neighbors(adata, n_neighbors=10, n_pcs=40)\n",
    "    sc.tl.leiden(\n",
    "        adata,\n",
    "        resolution=0.25,\n",
    "        random_state=0\n",
    "    )\n",
    "    return sc.tl.umap(adata, color= x)"
   ]
  },
  {
   "cell_type": "code",
   "execution_count": 11,
   "id": "5ed2f2b1",
   "metadata": {},
   "outputs": [],
   "source": [
    "# Highly variable genes\n",
    "adata_cancer = preprocess(adata_cancer)\n",
    "adata_endo = preprocess(adata_endo)"
   ]
  },
  {
   "cell_type": "code",
   "execution_count": 12,
   "id": "2aab3d3a",
   "metadata": {},
   "outputs": [],
   "source": [
    "# Merge the two datasets\n",
    "merged_adata = ad.concat(\n",
    "    [adata_endo, adata_cancer],\n",
    "    axis=0,          # Concatenate along cells \n",
    "    join=\"outer\",    # Keep all genes only\n",
    "    keys=[\"Endometriosis\", \"Cancer\"],\n",
    "    merge=\"unique\",  # Handle overlapping metadata uniquely\n",
    "    index_unique=\"-\",  # Avoid duplicate observation names\n",
    "    fill_value=0     # Fill missing values wth zeros\n",
    ")"
   ]
  },
  {
   "cell_type": "code",
   "execution_count": 13,
   "id": "0cafdb9d",
   "metadata": {},
   "outputs": [],
   "source": [
    "# Assign datasets as a column\n",
    "merged_adata.obs['dataset'] = merged_adata.obs.index.str.split('-').str[-1]"
   ]
  },
  {
   "cell_type": "code",
   "execution_count": 14,
   "id": "b986e12d",
   "metadata": {},
   "outputs": [],
   "source": [
    "# Create target variable in obs\n",
    "merged_adata.obs[\"target\"] = (\n",
    "    merged_adata.obs[\"sample\"]\n",
    "    .str.split(\"_\").str[-1]\n",
    "    .str[0]\n",
    "    .map({\"C\": \"Cancer\", \"E\": \"EMS\", \"N\": \"Normal\"})\n",
    ")"
   ]
  },
  {
   "cell_type": "markdown",
   "id": "6703975e",
   "metadata": {},
   "source": [
    "# scVI Integration"
   ]
  },
  {
   "cell_type": "code",
   "execution_count": 15,
   "id": "130b4cb5",
   "metadata": {},
   "outputs": [],
   "source": [
    "from sklearn.model_selection import train_test_split"
   ]
  },
  {
   "cell_type": "code",
   "execution_count": null,
   "id": "08ce236c",
   "metadata": {},
   "outputs": [],
   "source": [
    "# Stratified split preserving target distribution\n",
    "train_idx, test_idx = train_test_split(\n",
    "    merged_adata.obs.index,\n",
    "    test_size=0.2,\n",
    "    stratify=merged_adata.obs[\"target\"],\n",
    "    random_state=42\n",
    ")"
   ]
  },
  {
   "cell_type": "code",
   "execution_count": 17,
   "id": "a27b9795",
   "metadata": {},
   "outputs": [],
   "source": [
    "adata_train = merged_adata[train_idx].copy()\n",
    "adata_test = merged_adata[test_idx].copy()"
   ]
  },
  {
   "cell_type": "code",
   "execution_count": 21,
   "id": "d6eabc8a",
   "metadata": {},
   "outputs": [],
   "source": [
    "adata_train.layers[\"counts\"] = adata_train.X"
   ]
  },
  {
   "cell_type": "code",
   "execution_count": 26,
   "id": "bc3f6d75",
   "metadata": {},
   "outputs": [],
   "source": [
    "adata_test.layers[\"counts\"] = adata_test.X"
   ]
  },
  {
   "cell_type": "code",
   "execution_count": 19,
   "id": "46fd27a3",
   "metadata": {},
   "outputs": [
    {
     "name": "stderr",
     "output_type": "stream",
     "text": [
      "/Users/saidalkildani/Desktop/DS_AI/Projects/EndoGyn/venv1.venv/lib/python3.11/site-packages/tqdm/auto.py:21: TqdmWarning: IProgress not found. Please update jupyter and ipywidgets. See https://ipywidgets.readthedocs.io/en/stable/user_install.html\n",
      "  from .autonotebook import tqdm as notebook_tqdm\n"
     ]
    }
   ],
   "source": [
    "import scvi"
   ]
  },
  {
   "cell_type": "code",
   "execution_count": null,
   "id": "20498854",
   "metadata": {},
   "outputs": [
    {
     "name": "stderr",
     "output_type": "stream",
     "text": [
      "/Users/saidalkildani/Desktop/DS_AI/Projects/EndoGyn/venv1.venv/lib/python3.11/site-packages/scvi/data/fields/_base_field.py:63: UserWarning: adata.layers[counts] does not contain unnormalized count data. Are you sure this is what you want?\n",
      "  self.validate_field(adata)\n"
     ]
    }
   ],
   "source": [
    "# Setup model and train\n",
    "scvi.model.SCVI.setup_anndata(adata_train, layer=\"counts\", \n",
    "                              categorical_covariate_keys= [\"sample\", \"dataset\"], # choosing sample as a covariate as we saw in the example above sample-to-sample technical variance\n",
    "                              continuous_covariate_keys= [\"pct_counts_mt\", \"total_counts\"])"
   ]
  },
  {
   "cell_type": "code",
   "execution_count": 23,
   "id": "4c84d550",
   "metadata": {},
   "outputs": [
    {
     "name": "stderr",
     "output_type": "stream",
     "text": [
      "/Users/saidalkildani/Desktop/DS_AI/Projects/EndoGyn/venv1.venv/lib/python3.11/site-packages/scvi/train/_trainrunner.py:69: UserWarning: `accelerator` has been set to `mps`. Please note that not all PyTorch/Jax operations are supported with this backend. as a result, some models might be slower and less accurate than usuall. Please verify your analysis!Refer to https://github.com/pytorch/pytorch/issues/77764 for more details.\n",
      "  accelerator, lightning_devices, device = parse_device_args(\n",
      "GPU available: True (mps), used: True\n",
      "TPU available: False, using: 0 TPU cores\n",
      "HPU available: False, using: 0 HPUs\n",
      "/Users/saidalkildani/Desktop/DS_AI/Projects/EndoGyn/venv1.venv/lib/python3.11/site-packages/lightning/pytorch/trainer/connectors/data_connector.py:425: The 'train_dataloader' does not have many workers which may be a bottleneck. Consider increasing the value of the `num_workers` argument` to `num_workers=7` in the `DataLoader` to improve performance.\n"
     ]
    },
    {
     "name": "stdout",
     "output_type": "stream",
     "text": [
      "Epoch 113/113: 100%|██████████| 113/113 [25:32<00:00, 13.53s/it, v_num=1, train_loss_step=452, train_loss_epoch=443]"
     ]
    },
    {
     "name": "stderr",
     "output_type": "stream",
     "text": [
      "`Trainer.fit` stopped: `max_epochs=113` reached.\n"
     ]
    },
    {
     "name": "stdout",
     "output_type": "stream",
     "text": [
      "Epoch 113/113: 100%|██████████| 113/113 [25:32<00:00, 13.56s/it, v_num=1, train_loss_step=452, train_loss_epoch=443]\n"
     ]
    }
   ],
   "source": [
    "model = scvi.model.SCVI(adata_train, n_layers=2, n_latent=30, gene_likelihood=\"nb\")\n",
    "model.train(accelerator=\"gpu\")"
   ]
  },
  {
   "cell_type": "code",
   "execution_count": 27,
   "id": "12993fac",
   "metadata": {},
   "outputs": [
    {
     "name": "stdout",
     "output_type": "stream",
     "text": [
      "\u001b[34mINFO    \u001b[0m Input AnnData not setup with scvi-tools. attempting to transfer AnnData setup                             \n"
     ]
    },
    {
     "name": "stderr",
     "output_type": "stream",
     "text": [
      "/Users/saidalkildani/Desktop/DS_AI/Projects/EndoGyn/venv1.venv/lib/python3.11/site-packages/scvi/data/fields/_base_field.py:63: UserWarning: adata.layers[counts] does not contain unnormalized count data. Are you sure this is what you want?\n",
      "  self.validate_field(adata)\n"
     ]
    }
   ],
   "source": [
    "# Get normalized counts for both sets (prevents data leakage)\n",
    "norm_train = model.get_normalized_expression(\n",
    "    adata_train, \n",
    "    library_size=1e4,\n",
    "    return_numpy=False\n",
    ")\n",
    "norm_test = model.get_normalized_expression(\n",
    "    adata_test,\n",
    "    library_size=1e4, \n",
    "    return_numpy=False\n",
    ")\n"
   ]
  },
  {
   "cell_type": "code",
   "execution_count": 30,
   "id": "5064aea6",
   "metadata": {},
   "outputs": [],
   "source": [
    "# Create DataFrames with targets\n",
    "norm_train_df = norm_train.join(adata_train.obs[\"target\"])\n",
    "norm_test_df = norm_test.join(adata_test.obs[\"target\"])"
   ]
  },
  {
   "cell_type": "code",
   "execution_count": null,
   "id": "9d6e1339",
   "metadata": {},
   "outputs": [],
   "source": [
    "# Save normalized datasets\n",
    "norm_train_df.to_parquet(os.path.join(processed_data_path, \"scvi_normalized_train.parquet\"))\n",
    "norm_test_df.to_parquet(os.path.join(processed_data_path, \"scvi_normalized_test.parquet\"))"
   ]
  }
 ],
 "metadata": {
  "kernelspec": {
   "display_name": "venv1.venv",
   "language": "python",
   "name": "python3"
  },
  "language_info": {
   "codemirror_mode": {
    "name": "ipython",
    "version": 3
   },
   "file_extension": ".py",
   "mimetype": "text/x-python",
   "name": "python",
   "nbconvert_exporter": "python",
   "pygments_lexer": "ipython3",
   "version": "3.11.3"
  }
 },
 "nbformat": 4,
 "nbformat_minor": 5
}
